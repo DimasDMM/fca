{
 "cells": [
  {
   "cell_type": "code",
   "execution_count": 1,
   "metadata": {},
   "outputs": [],
   "source": [
    "import pandas as pd\n",
    "import numpy as np\n",
    "import matplotlib.pyplot as plt\n",
    "import os\n",
    "import sys\n",
    "import shutil\n",
    "import copy\n",
    "from random import shuffle\n",
    "from datetime import datetime"
   ]
  },
  {
   "cell_type": "code",
   "execution_count": 2,
   "metadata": {},
   "outputs": [],
   "source": [
    "# Dataset\n",
    "source = './bank.csv' # Original dataset\n",
    "data_path = './build' # Folder to place the working data\n",
    "bin_data_file = 'bin_data.csv' # File to store the binarized data\n",
    "n_sets = 1 # Number of sets to split the dataset (in case that our dataset is very huge)"
   ]
  },
  {
   "cell_type": "code",
   "execution_count": 3,
   "metadata": {},
   "outputs": [],
   "source": [
    "# Creates a directory (or cleans it) to store the training/verification data\n",
    "if os.path.isdir(data_path):\n",
    "    try:\n",
    "        shutil.rmtree(data_path)\n",
    "    except:\n",
    "        print (\"Deletion of the directory %s failed\" % data_path)\n",
    "        exit(1)\n",
    "try:\n",
    "    os.mkdir(data_path, 0o755)\n",
    "except:\n",
    "    print (\"Creation of the directory %s failed\" % data_path)\n",
    "    exit(1)"
   ]
  },
  {
   "cell_type": "code",
   "execution_count": 4,
   "metadata": {},
   "outputs": [
    {
     "name": "stdout",
     "output_type": "stream",
     "text": [
      "Positive samples: 521\n",
      "Negative samples: 4000\n"
     ]
    }
   ],
   "source": [
    "# Count how many positive and negative samples are in the dataset\n",
    "g_pos_total = 0\n",
    "g_neg_total = 0\n",
    "\n",
    "df = pd.read_csv(source, header=0, usecols=['y'])\n",
    "suscriptions = df['y'].tolist()\n",
    "\n",
    "for x in suscriptions:\n",
    "    if x == 'yes':\n",
    "        g_pos_total += 1\n",
    "    else:\n",
    "        g_neg_total += 1\n",
    "\n",
    "print('Positive samples:', g_pos_total)\n",
    "print('Negative samples:', g_neg_total)"
   ]
  },
  {
   "cell_type": "code",
   "execution_count": 5,
   "metadata": {},
   "outputs": [
    {
     "data": {
      "image/png": "[encoded data removed]",
      "text/plain": [
       "<Figure size 432x288 with 1 Axes>"
      ]
     },
     "metadata": {},
     "output_type": "display_data"
    }
   ],
   "source": [
    "labels = 'Positive samples', 'Negative samples'\n",
    "sizes = [g_pos_total, g_neg_total]\n",
    "\n",
    "fig, ax = plt.subplots()\n",
    "ax.pie(sizes, labels=labels, autopct='%1.1f%%', shadow=True, startangle=90)\n",
    "ax.axis('equal')  # Equal aspect ratio ensures that pie is drawn as a circle.\n",
    "\n",
    "plt.show()"
   ]
  },
  {
   "cell_type": "code",
   "execution_count": 6,
   "metadata": {},
   "outputs": [],
   "source": [
    "def binarize_data(source):\n",
    "    headers = ['age_young', 'age_adult', 'age_old',\n",
    "               'marital_single', 'marital_married', 'marital_divorced',\n",
    "               'education_primary', 'education_secondary', 'education_tertiary',\n",
    "               'default', 'housing', 'loan', 'balance',\n",
    "               'campaign_lower', 'previous_lower', 'pdays_lower',\n",
    "               'suscribed']\n",
    "\n",
    "    balance_lower_bound = 0\n",
    "    campaign_lower_bound = 4\n",
    "    previous_lower_bound = 4\n",
    "    pdays_lower_bound = 100\n",
    "    bin_data = []\n",
    "    \n",
    "    log_chunks = 1000\n",
    "\n",
    "    i = 0\n",
    "    for df in pd.read_csv(source, sep=',', header = 0, chunksize=1):\n",
    "        if (i % 1000 == 0):\n",
    "            print(\"Computed %d rows...\" % (i))\n",
    "\n",
    "        if (df['education'][i] == 'unknown'):\n",
    "            pass\n",
    "\n",
    "        row = []\n",
    "\n",
    "        age = int(df['age'][i])\n",
    "        row += [age < 27, age >= 27 and age <= 65, age > 65]\n",
    "        row += [df['marital'][i] == 'single', df['marital'][i] == 'married', df['marital'][i] == 'divorced']\n",
    "        row += [df['education'][i] == 'primary', df['education'][i] == 'secondary', df['education'][i] == 'tertiary']\n",
    "        row += [df['default'][i] == 'yes']\n",
    "        row += [df['housing'][i] == 'yes']\n",
    "        row += [df['loan'][i] == 'yes']\n",
    "        row += [int(df['balance'][i]) > 0]\n",
    "        row += [int(df['campaign'][i]) < campaign_lower_bound]\n",
    "        row += [int(df['previous'][i]) < previous_lower_bound]\n",
    "        row += [int(df['pdays'][i]) < pdays_lower_bound]\n",
    "        row += [df['y'][i] == 'yes']\n",
    "\n",
    "        bin_data.append(row)\n",
    "        i += 1\n",
    "    \n",
    "    print(\"Computed %d rows...\" % (i))\n",
    "\n",
    "    return [headers, bin_data]"
   ]
  },
  {
   "cell_type": "code",
   "execution_count": 7,
   "metadata": {},
   "outputs": [
    {
     "name": "stdout",
     "output_type": "stream",
     "text": [
      "Computed 0 rows...\n",
      "Computed 1000 rows...\n",
      "Computed 2000 rows...\n",
      "Computed 3000 rows...\n",
      "Computed 4000 rows...\n",
      "Computed 4521 rows...\n"
     ]
    }
   ],
   "source": [
    "headers, bin_data = binarize_data(source)\n",
    "\n",
    "df = pd.DataFrame(bin_data, columns=headers)\n",
    "df.to_csv(data_path + '/' + bin_data_file, index=False)"
   ]
  },
  {
   "cell_type": "code",
   "execution_count": 8,
   "metadata": {},
   "outputs": [],
   "source": [
    "def k_fold_cross_validation(X, K, randomise = False):\n",
    "    \"\"\"\n",
    "    Generates K (training, validation) pairs from the items in X.\n",
    "\n",
    "    Each pair is a partition of X, where validation is an iterable\n",
    "    of length len(X)/K. So each training iterable is of length (K-1)*len(X)/K.\n",
    "\n",
    "    If randomise is true, a copy of X is shuffled before partitioning,\n",
    "    otherwise its order is preserved in training and validation.\n",
    "    \"\"\"\n",
    "    if randomise:\n",
    "        X = list(X)\n",
    "        shuffle(X)\n",
    "\n",
    "    if K == 1:\n",
    "        training = [x for i, x in enumerate(X) if i % 3 != 0]\n",
    "        validation = [x for i, x in enumerate(X) if i % 3 == 0]\n",
    "        yield training, validation, 0\n",
    "    else:\n",
    "        for k in range(K + 1):\n",
    "            training = [x for i, x in enumerate(X) if i % K != k]\n",
    "            validation = [x for i, x in enumerate(X) if i % K == k]\n",
    "            yield training, validation, k"
   ]
  },
  {
   "cell_type": "code",
   "execution_count": 9,
   "metadata": {},
   "outputs": [
    {
     "name": "stdout",
     "output_type": "stream",
     "text": [
      "Generating 1/1 file\n"
     ]
    }
   ],
   "source": [
    "# Generate training and verification data\n",
    "with open(data_path + '/' + bin_data_file, 'r') as data:\n",
    "    data.readline() # Skip first line of headers\n",
    "    for training, validation, k in k_fold_cross_validation(data.readlines(), K = n_sets, randomise = True):  \n",
    "        print(\"Generating %d/%d file\" % (k + 1, n_sets))\n",
    "        tf = open(\"%s/train_%d.csv\" % (data_path, k), 'w')\n",
    "        tf.writelines(training)\n",
    "        tv = open(\"%s/test_%d.csv\" % (data_path, k), 'w')\n",
    "        tv.writelines(validation)\n",
    "        tf.close()\n",
    "        tv.close()"
   ]
  },
  {
   "cell_type": "code",
   "execution_count": 10,
   "metadata": {},
   "outputs": [],
   "source": [
    "def parse_file(name):\n",
    "    df = pd.read_csv(name, sep=',', header=None)\n",
    "    y = np.array(df[df.columns[-1]])\n",
    "    del df[df.columns[-1]]\n",
    "    return [np.array(df).astype(int), y]"
   ]
  },
  {
   "cell_type": "code",
   "execution_count": 11,
   "metadata": {},
   "outputs": [],
   "source": [
    "def count_classes(X_train):\n",
    "    # Count how many positive and negative classes there are\n",
    "    count_pos = 0\n",
    "    count_neg = 0\n",
    "\n",
    "    for g in X_train:\n",
    "        g_class = bool(g[-1])\n",
    "        count_pos += int(g_class)\n",
    "        count_neg += int(not g_class)\n",
    "    \n",
    "    return [count_pos, count_neg]"
   ]
  },
  {
   "cell_type": "code",
   "execution_count": 12,
   "metadata": {},
   "outputs": [],
   "source": [
    "def compare(obj1, obj2):\n",
    "    tup = list(zip(obj1, obj2))\n",
    "    intersect = []\n",
    "    for i in range(len(tup)):\n",
    "        if tup[i][0] == tup[i][1]:\n",
    "            intersect.append((i, tup[i][0]))\n",
    "    return tuple(intersect)\n",
    "\n",
    "def calculate_hypothesis_and_add(intersect, hypotheses, context_plus, context_minus):\n",
    "    total_positive_cases = 0.00;\n",
    "    total_negative_cases = 0.00;\n",
    "\n",
    "    for i in context_plus:\n",
    "        if is_intersect_subset(intersect, i):\n",
    "            total_positive_cases += 1\n",
    "\n",
    "    for i in context_minus:\n",
    "        if is_intersect_subset(intersect, i):\n",
    "            total_negative_cases += 1\n",
    "\n",
    "    pos_support = total_positive_cases / len(context_plus)\n",
    "    neg_support = total_negative_cases / len(context_minus)\n",
    "    hypotheses[intersect] = (pos_support, neg_support)\n",
    "\n",
    "    return hypotheses\n",
    "\n",
    "# Loop over all items in intersect and see if they are in list.\n",
    "def is_intersect_subset(intersect, list):\n",
    "    for i in range(len(intersect)):\n",
    "        index = intersect[i][0]\n",
    "        value = intersect[i][1]\n",
    "        if list[index] != value:\n",
    "            return False\n",
    "    return True"
   ]
  },
  {
   "cell_type": "code",
   "execution_count": 17,
   "metadata": {},
   "outputs": [],
   "source": [
    "'''\n",
    "For each object from G+ you have to calculate intersection with the description of the object to classify \n",
    "(g'); and check, whether this description is presented in any example from G- do the same thing vice versa for G-: \n",
    "for each object description from G- calculate intersection and check whether this intersection is common with any \n",
    "object description from G+.\n",
    "'''\n",
    "def compute_hypotheses(context_plus, context_minus, example, example_result, hypotheses):\n",
    "    for j in context_plus:\n",
    "        intersect = compare(example, j)\n",
    "        if intersect not in hypotheses.keys():\n",
    "            hypotheses = calculate_hypothesis_and_add(intersect, hypotheses, context_plus, context_minus)\n",
    "\n",
    "    for k in context_minus:\n",
    "        intersect = compare(example, k)\n",
    "        if intersect not in hypotheses.keys():\n",
    "            hypotheses = calculate_hypothesis_and_add(intersect, hypotheses, context_plus, context_minus)"
   ]
  },
  {
   "cell_type": "code",
   "execution_count": 18,
   "metadata": {},
   "outputs": [],
   "source": [
    "def classify_element(hypotheses, unknown, y_pred):\n",
    "    score = 0\n",
    "    for tuples, h_sup in hypotheses.items():\n",
    "        if not match_hypothesis(tuples, unknown):\n",
    "            continue\n",
    "\n",
    "        if (h_sup[0] > h_sup[1]):\n",
    "            score += 1\n",
    "        else:\n",
    "            score -= 1\n",
    "\n",
    "    # Add the predicted class\n",
    "    y_pred.append(score > 0)\n",
    "    \n",
    "    return y_pred\n",
    "\n",
    "def match_hypothesis(tuples, unknown):\n",
    "    for x in tuples:\n",
    "        if x[1] != unknown[x[0]]:\n",
    "            return False\n",
    "    return True"
   ]
  },
  {
   "cell_type": "code",
   "execution_count": 19,
   "metadata": {},
   "outputs": [],
   "source": [
    "from sklearn.metrics import accuracy_score\n",
    "from sklearn.metrics import precision_score\n",
    "from sklearn.metrics import recall_score\n",
    "\n",
    "def compute_stats(y_real, y_pred):\n",
    "    stats = []\n",
    "\n",
    "    y_real = np.array(y_real)\n",
    "    y_pred = np.array(y_pred)\n",
    "\n",
    "    TP = np.sum(y_real & y_pred)\n",
    "    TN = np.sum((y_real + y_pred) == 0)\n",
    "    FP = np.sum((y_real  == 0) * (y_pred == 1))\n",
    "    FN = np.sum((y_real  == 1) * (y_pred == 0))\n",
    "\n",
    "    TPR = int(TP) / np.sum(y_real == 1)\n",
    "    TNR = int(TN) / np.sum(y_real == 0)\n",
    "    FPR = int(FP) / (FP + TN)\n",
    "    FNR = int(FN) / (FN + TP)\n",
    "    NPV = int(TN) / (TN + FN)\n",
    "    FDR = int(FP) / (TP + FP)\n",
    "\n",
    "    acc = accuracy_score(y_real, y_pred)\n",
    "    prec = precision_score(y_real, y_pred)\n",
    "    rec = recall_score(y_real, y_pred)\n",
    "    f1 = 2 * prec * rec / (prec + rec)\n",
    "\n",
    "    stats = [TP,  TN,  FP,  FN,\n",
    "             TPR, TNR, FPR, FNR,\n",
    "             NPV, FDR, acc, prec, rec, f1]\n",
    "\n",
    "    return stats"
   ]
  },
  {
   "cell_type": "code",
   "execution_count": 22,
   "metadata": {},
   "outputs": [
    {
     "name": "stdout",
     "output_type": "stream",
     "text": [
      "Computing set 1 of 1\n",
      "- Spliting plus and minus contexts\n",
      "- Computing hypotheses\n",
      "-- Hypotheses computed: 11725\n",
      "-- Hypotheses computed: 16119\n",
      "-- Hypotheses computed: 18962\n",
      "-- Hypotheses computed: 21221\n",
      "-- Hypotheses computed: 23746\n",
      "-- Hypotheses computed: 26209\n",
      "-- Hypotheses computed: 27940\n",
      "-- Hypotheses computed: 28977\n",
      "-- Hypotheses computed: 30318\n",
      "-- Hypotheses computed: 31226\n",
      "-- Hypotheses computed: 33130\n",
      "-- Hypotheses computed: 34252\n",
      "-- Hypotheses computed: 35379\n",
      "-- Hypotheses computed: 36184\n",
      "-- Hypotheses computed: 37436\n",
      "Duration of Test 1506: 0:05:02.725297\n",
      "Total Hypotheses: 37624\n"
     ]
    }
   ],
   "source": [
    "print_debug = True\n",
    "i_file = 0 # Value must be in the range: 0 <= i_file < n_sets\n",
    "\n",
    "### HYPOTHESES COMPUTATION\n",
    "print('Computing set {} of {}'.format(i_file + 1, n_sets))\n",
    "\n",
    "print('- Spliting plus and minus contexts')\n",
    "train, y_train = parse_file(data_path + '/train_' + str(i_file) + '.csv')\n",
    "plus  = [a for i, a in enumerate(train) if y_train[i]]\n",
    "minus = [a for i, a in enumerate(train) if not y_train[i]]\n",
    "\n",
    "test, y_test = parse_file(data_path + '/test_' + str(i_file) + '.csv')\n",
    "\n",
    "starttime = datetime.now()\n",
    "# Dictionary of Hypotheses:\n",
    "# Key = list of tuples indicating the hypothesis\n",
    "# Values = tuple containing positive and negative support (not normalized)\n",
    "hypotheses = dict()\n",
    "y_pred = []\n",
    "\n",
    "print('- Computing hypotheses')\n",
    "hi = 0\n",
    "for i, elem in enumerate(test):\n",
    "    hi += 1\n",
    "    compute_hypotheses(plus, minus, elem, y_test[i], hypotheses)\n",
    "\n",
    "    if print_debug:\n",
    "        if hi % 100 == 0:\n",
    "            print('-- Hypotheses computed: ' + str(len(hypotheses)) + ' - Remaining objects: ' + str(len(test) - i - 1))\n",
    "\n",
    "print('Duration of Test ' + str(i) + ': ' + str(datetime.now() - starttime))\n",
    "print('Total Hypotheses: ' + str(len(hypotheses)))"
   ]
  },
  {
   "cell_type": "code",
   "execution_count": 26,
   "metadata": {},
   "outputs": [
    {
     "name": "stdout",
     "output_type": "stream",
     "text": [
      "Classifying unknown elements\n",
      "- Classified 0 elements of 1507\n",
      "- Classified 100 elements of 1507\n",
      "- Classified 200 elements of 1507\n",
      "- Classified 300 elements of 1507\n",
      "- Classified 400 elements of 1507\n",
      "- Classified 500 elements of 1507\n",
      "- Classified 600 elements of 1507\n",
      "- Classified 700 elements of 1507\n",
      "- Classified 800 elements of 1507\n",
      "- Classified 900 elements of 1507\n",
      "- Classified 1000 elements of 1507\n",
      "- Classified 1100 elements of 1507\n",
      "- Classified 1200 elements of 1507\n",
      "- Classified 1300 elements of 1507\n",
      "- Classified 1400 elements of 1507\n",
      "- Classified 1500 elements of 1507\n"
     ]
    }
   ],
   "source": [
    "print_debug = True\n",
    "\n",
    "### CLASIFICATION PROCESS\n",
    "print('Classifying unknown elements')\n",
    "y_pred = []\n",
    "for i, elem in enumerate(test):\n",
    "    y_pred = classify_element(hypotheses, elem, y_pred)\n",
    "    if print_debug:\n",
    "        if i % 100 == 0:\n",
    "            print('- Classified ' + str(i) + ' elements of ' + str(len(test)))\n",
    "\n",
    "[\n",
    "    TP,  TN,  FP,  FN,\n",
    "    TPR, TNR, FPR, FNR,\n",
    "    NPV, FDR, acc, prec, rec, f1] = compute_stats(y_test, y_pred)"
   ]
  },
  {
   "cell_type": "code",
   "execution_count": 27,
   "metadata": {},
   "outputs": [
    {
     "name": "stdout",
     "output_type": "stream",
     "text": [
      "True Positive: 85\n",
      "True Negative: 942\n",
      "False Positive: 390\n",
      "False Negative: 90\n",
      "True Positive Rate: 0.4857142857142857\n",
      "True Negative Rate: 0.7072072072072072\n",
      "False Positive Rate: 0.2927927927927928\n",
      "False Negative Rate: 0.5142857142857142\n",
      "Negative Predictive Value: 0.9127906976744186\n",
      "False Discovery Rate: 0.8210526315789474\n",
      "Accuracy: 0.681486396814864\n",
      "Precision: 0.17894736842105263\n",
      "Recall: 0.4857142857142857\n",
      "F1: 0.26153846153846155\n"
     ]
    }
   ],
   "source": [
    "### STATISTICS\n",
    "print(\"True Positive: {}\\nTrue Negative: {}\\nFalse Positive: {}\\nFalse Negative: {}\\n\\\n",
    "True Positive Rate: {}\\nTrue Negative Rate: {}\\nFalse Positive Rate: {}\\nFalse Negative Rate: {}\\n\\\n",
    "Negative Predictive Value: {}\\nFalse Discovery Rate: {}\\nAccuracy: {}\\nPrecision: {}\\n\\\n",
    "Recall: {}\\nF1: {}\".format(TP,  TN,  FP,  FN,\n",
    "                           TPR, TNR, FPR, FNR,\n",
    "                           NPV, FDR, acc, prec, rec, f1))"
   ]
  },
  {
   "cell_type": "code",
   "execution_count": null,
   "metadata": {},
   "outputs": [],
   "source": []
  }
 ],
 "metadata": {
  "kernelspec": {
   "display_name": "Python 3",
   "language": "python",
   "name": "python3"
  },
  "language_info": {
   "codemirror_mode": {
    "name": "ipython",
    "version": 3
   },
   "file_extension": ".py",
   "mimetype": "text/x-python",
   "name": "python",
   "nbconvert_exporter": "python",
   "pygments_lexer": "ipython3",
   "version": "3.7.4"
  }
 },
 "nbformat": 4,
 "nbformat_minor": 1
}
